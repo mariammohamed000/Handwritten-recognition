{
  "nbformat": 4,
  "nbformat_minor": 0,
  "metadata": {
    "colab": {
      "provenance": []
    },
    "kernelspec": {
      "name": "python3",
      "display_name": "Python 3"
    },
    "language_info": {
      "name": "python"
    }
  },
  "cells": [
    {
      "cell_type": "code",
      "execution_count": null,
      "metadata": {
        "id": "kQyzFcZJSJtd"
      },
      "outputs": [],
      "source": [
        "import keras\n",
        "from keras.datasets import mnist\n",
        "from keras.models import Sequential\n",
        "from keras.layers import Dense, Dropout, Flatten\n",
        "from keras.layers import Conv2D, MaxPooling2D\n",
        "from keras import backend as K"
      ]
    },
    {
      "cell_type": "markdown",
      "source": [
        "# **Load Data**"
      ],
      "metadata": {
        "id": "mNNOOccAVR5-"
      }
    },
    {
      "cell_type": "code",
      "source": [
        "# the data, split between train and test sets\n",
        "(x_train, y_train), (x_test, y_test) = mnist.load_data()\n",
        "print(x_train.shape, y_train.shape)"
      ],
      "metadata": {
        "colab": {
          "base_uri": "https://localhost:8080/"
        },
        "id": "vPRyPPp7U6Sn",
        "outputId": "41c755b4-26a9-485a-de09-ce01de8697d0"
      },
      "execution_count": null,
      "outputs": [
        {
          "output_type": "stream",
          "name": "stdout",
          "text": [
            "Downloading data from https://storage.googleapis.com/tensorflow/tf-keras-datasets/mnist.npz\n",
            "11490434/11490434 [==============================] - 1s 0us/step\n",
            "(60000, 28, 28) (60000,)\n"
          ]
        }
      ]
    },
    {
      "cell_type": "markdown",
      "source": [
        "# **Preprocess the data**"
      ],
      "metadata": {
        "id": "xlQi2zUxVLkl"
      }
    },
    {
      "cell_type": "code",
      "source": [
        "x_train = x_train.reshape(x_train.shape[0], 28, 28, 1)\n",
        "x_test = x_test.reshape(x_test.shape[0], 28, 28, 1)\n",
        "input_shape = (28, 28, 1)\n",
        "\n",
        "# convert class vectors to binary class matrices\n",
        "num_classes = 10\n",
        "y_train = keras.utils.to_categorical(y_train, num_classes)\n",
        "y_test = keras.utils.to_categorical(y_test, num_classes)\n",
        "\n",
        "x_train = x_train.astype('float32')\n",
        "x_test = x_test.astype('float32')\n",
        "x_train /= 255\n",
        "x_test /= 255\n",
        "print('x_train shape:', x_train.shape)\n",
        "print(x_train.shape[0], 'train samples')\n",
        "print(x_test.shape[0], 'test samples')"
      ],
      "metadata": {
        "colab": {
          "base_uri": "https://localhost:8080/"
        },
        "id": "HY1LXO4YVPgo",
        "outputId": "513adc21-ed6c-4b38-d272-848833ae98d1"
      },
      "execution_count": null,
      "outputs": [
        {
          "output_type": "stream",
          "name": "stdout",
          "text": [
            "x_train shape: (60000, 28, 28, 1)\n",
            "60000 train samples\n",
            "10000 test samples\n"
          ]
        }
      ]
    },
    {
      "cell_type": "markdown",
      "source": [
        "# **Create the model**"
      ],
      "metadata": {
        "id": "BB2AQgHlVxqr"
      }
    },
    {
      "cell_type": "code",
      "source": [
        "#  create CNN model\n",
        "batch_size = 128\n",
        "num_classes = 10\n",
        "epochs = 10\n",
        "\n",
        "model = Sequential()\n",
        "model.add(Conv2D(32, kernel_size=(3, 3),activation='relu',input_shape=input_shape))\n",
        "model.add(Conv2D(64, (3, 3), activation='relu'))\n",
        "model.add(MaxPooling2D(pool_size=(2, 2)))\n",
        "model.add(Dropout(0.25))\n",
        "model.add(Flatten())\n",
        "model.add(Dense(256, activation='relu'))\n",
        "model.add(Dropout(0.5))\n",
        "model.add(Dense(num_classes, activation='softmax'))\n",
        "\n",
        "model.compile(loss=keras.losses.categorical_crossentropy,optimizer=keras.optimizers.Adadelta(),metrics=['accuracy'])"
      ],
      "metadata": {
        "id": "Z___iK__WAfd"
      },
      "execution_count": null,
      "outputs": []
    },
    {
      "cell_type": "markdown",
      "source": [
        "# **Train the model**"
      ],
      "metadata": {
        "id": "06lYczskWXjg"
      }
    },
    {
      "cell_type": "code",
      "source": [
        "# model.fit() function of Keras will start the training of the model. It takes the training data, validation data, epochs, and batch size.\n",
        "# used to train the model. After training, we save the weights and model definition in the ‘mnist.h5’ file.\n",
        "\n",
        "hist = model.fit(x_train, y_train,batch_size=batch_size,epochs=epochs,verbose=1,validation_data=(x_test, y_test))\n",
        "print(\"The model has successfully trained\")\n",
        "model.save('mnist.h5')\n",
        "print(\"Saving the model as mnist.h5\")"
      ],
      "metadata": {
        "colab": {
          "base_uri": "https://localhost:8080/"
        },
        "id": "jsVoht0OWbac",
        "outputId": "f32c4051-a6df-4b0b-d51b-c8e3a0e33e31"
      },
      "execution_count": null,
      "outputs": [
        {
          "output_type": "stream",
          "name": "stdout",
          "text": [
            "Epoch 1/10\n",
            "469/469 [==============================] - 195s 414ms/step - loss: 2.2663 - accuracy: 0.1642 - val_loss: 2.2059 - val_accuracy: 0.4667\n",
            "Epoch 2/10\n",
            "469/469 [==============================] - 193s 411ms/step - loss: 2.1698 - accuracy: 0.3361 - val_loss: 2.0836 - val_accuracy: 0.6740\n",
            "Epoch 3/10\n",
            "469/469 [==============================] - 187s 399ms/step - loss: 2.0376 - accuracy: 0.4805 - val_loss: 1.9101 - val_accuracy: 0.7323\n",
            "Epoch 4/10\n",
            "469/469 [==============================] - 170s 363ms/step - loss: 1.8556 - accuracy: 0.5677 - val_loss: 1.6738 - val_accuracy: 0.7645\n",
            "Epoch 5/10\n",
            "469/469 [==============================] - 169s 361ms/step - loss: 1.6252 - accuracy: 0.6261 - val_loss: 1.3974 - val_accuracy: 0.7882\n",
            "Epoch 6/10\n",
            "469/469 [==============================] - 181s 386ms/step - loss: 1.3863 - accuracy: 0.6616 - val_loss: 1.1376 - val_accuracy: 0.8013\n",
            "Epoch 7/10\n",
            "469/469 [==============================] - 172s 368ms/step - loss: 1.1834 - accuracy: 0.6897 - val_loss: 0.9365 - val_accuracy: 0.8141\n",
            "Epoch 8/10\n",
            "469/469 [==============================] - 175s 372ms/step - loss: 1.0325 - accuracy: 0.7118 - val_loss: 0.7955 - val_accuracy: 0.8285\n",
            "Epoch 9/10\n",
            "469/469 [==============================] - 174s 371ms/step - loss: 0.9259 - accuracy: 0.7314 - val_loss: 0.6982 - val_accuracy: 0.8380\n",
            "Epoch 10/10\n",
            "469/469 [==============================] - 176s 375ms/step - loss: 0.8469 - accuracy: 0.7484 - val_loss: 0.6276 - val_accuracy: 0.8486\n",
            "The model has successfully trained\n",
            "Saving the model as mnist.h5\n"
          ]
        },
        {
          "output_type": "stream",
          "name": "stderr",
          "text": [
            "/usr/local/lib/python3.10/dist-packages/keras/src/engine/training.py:3103: UserWarning: You are saving your model as an HDF5 file via `model.save()`. This file format is considered legacy. We recommend using instead the native Keras format, e.g. `model.save('my_model.keras')`.\n",
            "  saving_api.save_model(\n"
          ]
        }
      ]
    },
    {
      "cell_type": "markdown",
      "source": [
        "# **Evaluate the model**"
      ],
      "metadata": {
        "id": "4j4a9DlkW6GJ"
      }
    },
    {
      "cell_type": "code",
      "source": [
        "#10,000 images in  dataset which will be used to evaluate how good model works.\n",
        "#The testing data was not involved in the training of the data therefore, it is new data for our model. The MNIST dataset is well balanced\n",
        "\n",
        "score = model.evaluate(x_test, y_test, verbose=0)\n",
        "print('Test loss:', score[0])\n",
        "print('Test accuracy:', score[1])"
      ],
      "metadata": {
        "colab": {
          "base_uri": "https://localhost:8080/"
        },
        "id": "igWP32OIW9P5",
        "outputId": "9348dcdb-e8b1-4c54-bcd1-61549d0ec508"
      },
      "execution_count": null,
      "outputs": [
        {
          "output_type": "stream",
          "name": "stdout",
          "text": [
            "Test loss: 0.6275764107704163\n",
            "Test accuracy: 0.8485999703407288\n"
          ]
        }
      ]
    },
    {
      "cell_type": "markdown",
      "source": [
        "# **visualization of digits recognition test**"
      ],
      "metadata": {
        "id": "cO4lE1jFXugM"
      }
    },
    {
      "cell_type": "code",
      "source": [
        "import numpy as np\n",
        "import matplotlib.pyplot as plt\n",
        "\n",
        "# Select random images from the test set\n",
        "num_images_to_show = 10\n",
        "random_indices = np.random.choice(x_test.shape[0], num_images_to_show)\n",
        "\n",
        "# Get the predicted probabilities for each class\n",
        "predicted_probabilities = model.predict(x_test[random_indices])\n",
        "\n",
        "# Get the predicted labels by selecting the class with the highest probability\n",
        "predicted_labels = np.argmax(predicted_probabilities, axis=1)\n",
        "\n",
        "# Display the images along with their true and predicted labels\n",
        "plt.figure(figsize=(15, 5))\n",
        "for i, idx in enumerate(random_indices):\n",
        "    plt.subplot(2, 5, i + 1)\n",
        "    plt.imshow(x_test[idx].reshape(28, 28), cmap='gray')\n",
        "    plt.title(f'True: {np.argmax(y_test[idx])}\\nPredicted: {predicted_labels[i]}')\n",
        "    plt.axis('off')\n",
        "\n",
        "plt.show()\n"
      ],
      "metadata": {
        "colab": {
          "base_uri": "https://localhost:8080/",
          "height": 482
        },
        "id": "3AuAfMY7XySI",
        "outputId": "ff8b9684-6662-49a9-f08d-8a1e5323ff13"
      },
      "execution_count": null,
      "outputs": [
        {
          "output_type": "stream",
          "name": "stdout",
          "text": [
            "1/1 [==============================] - 0s 33ms/step\n"
          ]
        },
        {
          "output_type": "display_data",
          "data": {
            "text/plain": [
              "<Figure size 1500x500 with 10 Axes>"
            ],
            "image/png": "[encoded data removed]"
          },
          "metadata": {}
        }
      ]
    }
  ]
}